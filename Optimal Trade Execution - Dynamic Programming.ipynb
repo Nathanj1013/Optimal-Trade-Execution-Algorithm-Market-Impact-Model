{
  "nbformat": 4,
  "nbformat_minor": 0,
  "metadata": {
    "colab": {
      "name": "application programming hw3.ipynb",
      "provenance": [],
      "collapsed_sections": []
    },
    "kernelspec": {
      "name": "python3",
      "display_name": "Python 3"
    }
  },
  "cells": [
    {
      "cell_type": "code",
      "metadata": {
        "id": "DBpBtHpOPVUc",
        "colab_type": "code",
        "colab": {}
      },
      "source": [
        "# Assume initial price is $1\n",
        "import numpy as np\n",
        "\n",
        "def f(k,alpha,pi):\n",
        "  return 1-alpha*(k**pi)\n",
        "\n",
        "\n",
        "def trade(alpha,pi,N,T): \n",
        "  R=np.zeros([T,N+1])                    # Create a matrix (period T x numbers left to sell) to record the max revenue with different choices of x(shares to sell)for each k (shares left) at each period\n",
        "  shares_to_sell=np.zeros([T,N+1])       # Create a matrix (period T x shares to sell) to record the corresponding shares to sell(x) to achieve the max rev. for each k (shares left) at each period\n",
        "  \n",
        "  for k in range(N+1):                   # Start from the last period to fill in the Revenue matrix\n",
        "    R[T-1,k]=f(k,alpha,pi)*k\n",
        "    \n",
        "  for t in range(T-2,-1,-1):\n",
        "    for k in range(N+1):\n",
        "      R[t,k]=0\n",
        "      \n",
        "      x=np.arange(k+1)                   # Find the max rev. among different choices of x(shares to sell) at each period for each k (shares left)\n",
        "      x=f(x,alpha,pi)*x+f(x,alpha,pi)*R[t+1,k-x]\n",
        "      R[t,k]=np.max(x)\n",
        "      shares_to_sell[t,k]=np.argmax(x)   # and record the rev. and x\n",
        "\n",
        "\n",
        " # Trace back the amount of shares to sell in each period and print out the total revenue.\n",
        "  i=int(shares_to_sell[0,np.argmax(R[0])])                          # The final optimal revenue is the max revenue at the 1st period for a dp problem\n",
        "  print(\"At time 1, sell:\",i,\"shares, total revenue is\",i*f(i,alpha,pi))\n",
        "  amt_sold=i\n",
        "  total_rev=i*f(i,alpha,pi)\n",
        "  for t in range(1,T-1):\n",
        "    a=int(shares_to_sell[t,N-i])\n",
        "    total_rev=total_rev+R[t,a]\n",
        "    print(\"At time\",t+1,\",sell:\",a,\"shares, total revenue is\",total_rev)\n",
        "    amt_sold=amt_sold+a\n",
        "    i=amt_sold\n",
        "  print(\"At time\",T,\",sell:\",N-amt_sold,\"shares, total revenue is\",np.max(R[0]))    \n",
        "  return"
      ],
      "execution_count": 0,
      "outputs": []
    },
    {
      "cell_type": "code",
      "metadata": {
        "id": "o3vyx7hbPdlS",
        "colab_type": "code",
        "outputId": "91a76bb1-def2-4e23-a62c-f82b8c98f7d2",
        "colab": {
          "base_uri": "https://localhost:8080/",
          "height": 377
        }
      },
      "source": [
        "trade(alpha=0.0001,pi=0.5,N=10000,T=20)"
      ],
      "execution_count": 27,
      "outputs": [
        {
          "output_type": "stream",
          "text": [
            "At time 1, sell: 0 shares, total revenue is 0.0\n",
            "At time 2 ,sell: 0 shares, total revenue is 0.0\n",
            "At time 3 ,sell: 0 shares, total revenue is 0.0\n",
            "At time 4 ,sell: 0 shares, total revenue is 0.0\n",
            "At time 5 ,sell: 0 shares, total revenue is 0.0\n",
            "At time 6 ,sell: 0 shares, total revenue is 0.0\n",
            "At time 7 ,sell: 0 shares, total revenue is 0.0\n",
            "At time 8 ,sell: 0 shares, total revenue is 0.0\n",
            "At time 9 ,sell: 0 shares, total revenue is 0.0\n",
            "At time 10 ,sell: 0 shares, total revenue is 0.0\n",
            "At time 11 ,sell: 0 shares, total revenue is 0.0\n",
            "At time 12 ,sell: 0 shares, total revenue is 0.0\n",
            "At time 13 ,sell: 0 shares, total revenue is 0.0\n",
            "At time 14 ,sell: 0 shares, total revenue is 0.0\n",
            "At time 15 ,sell: 0 shares, total revenue is 0.0\n",
            "At time 16 ,sell: 8631 shares, total revenue is 8552.566116093665\n",
            "At time 17 ,sell: 1184 shares, total revenue is 9732.579895335104\n",
            "At time 18 ,sell: 160 shares, total revenue is 9892.381840802036\n",
            "At time 19 ,sell: 22 shares, total revenue is 9914.371731835614\n",
            "At time 20 ,sell: 3 shares, total revenue is 9902.186843142796\n"
          ],
          "name": "stdout"
        }
      ]
    },
    {
      "cell_type": "code",
      "metadata": {
        "id": "8RpnN6FkQcgE",
        "colab_type": "code",
        "colab": {}
      },
      "source": [
        ""
      ],
      "execution_count": 0,
      "outputs": []
    }
  ]
}